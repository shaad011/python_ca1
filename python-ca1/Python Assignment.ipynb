{
 "cells": [
  {
   "cell_type": "markdown",
   "id": "33bc11ac",
   "metadata": {},
   "source": [
    "# CA1 Introduction to python"
   ]
  },
  {
   "cell_type": "markdown",
   "id": "5045d658",
   "metadata": {},
   "source": [
    "## Q1"
   ]
  },
  {
   "cell_type": "code",
   "execution_count": 2,
   "id": "729e48d1",
   "metadata": {},
   "outputs": [
    {
     "name": "stdout",
     "output_type": "stream",
     "text": [
      "Enter first float number : 12.1\n",
      "Enter second float number : 13.4\n",
      "Enter third float number : 19.7\n",
      "Sum of 12.1 , 13.4 and 19.7 is : 45.2\n",
      "Average of 12.1 , 13.4 and 19.7 is : 15.066666666666668\n"
     ]
    }
   ],
   "source": [
    "n1=float(input(\"Enter first float number : \"))\n",
    "n2=float(input(\"Enter second float number : \"))\n",
    "n3=float(input(\"Enter third float number : \"))\n",
    "\n",
    "print(\"Sum of\",n1,\",\",n2,\"and\",n3,\"is :\",n1+n2+n3)\n",
    "print(\"Average of\",n1,\",\",n2,\"and\",n3,\"is :\",(n1+n2+n3)/3)"
   ]
  },
  {
   "cell_type": "markdown",
   "id": "f86f9ef7",
   "metadata": {},
   "source": [
    "## Q2 "
   ]
  },
  {
   "cell_type": "code",
   "execution_count": 7,
   "id": "0c5a2188",
   "metadata": {},
   "outputs": [
    {
     "name": "stdout",
     "output_type": "stream",
     "text": [
      "Enter radius of sphere : 4.7\n",
      "Volume of sphere :  434.89276543153744\n"
     ]
    }
   ],
   "source": [
    "import math\n",
    "r=float(input(\"Enter radius of sphere : \"))\n",
    "vol=(4/3)*(math.pi)*(r**3)\n",
    "print(\"Volume of sphere : \",vol)\n"
   ]
  },
  {
   "cell_type": "markdown",
   "id": "c9210ffd",
   "metadata": {},
   "source": [
    "## Q3"
   ]
  },
  {
   "cell_type": "code",
   "execution_count": 6,
   "id": "1423c3f4",
   "metadata": {},
   "outputs": [
    {
     "name": "stdout",
     "output_type": "stream",
     "text": [
      "Enter radius of circle : 6.2\n",
      "Area of circle :  120.76282160399167\n"
     ]
    }
   ],
   "source": [
    "import math\n",
    "r=float(input(\"Enter radius of circle : \"))\n",
    "area=math.pi*r**2\n",
    "print(\"Area of circle : \",area)"
   ]
  },
  {
   "cell_type": "markdown",
   "id": "5630d522",
   "metadata": {},
   "source": [
    "## Q4"
   ]
  },
  {
   "cell_type": "code",
   "execution_count": 8,
   "id": "51ce71f9",
   "metadata": {},
   "outputs": [
    {
     "name": "stdout",
     "output_type": "stream",
     "text": [
      "Enter principle amount : 2000\n",
      "Enter rate of interest : 2\n",
      "Enter time in years : 4\n",
      "Simple interest :  160.0\n"
     ]
    }
   ],
   "source": [
    "p=float(input(\"Enter principle amount : \"))\n",
    "r=float(input(\"Enter rate of interest : \"))\n",
    "t=float(input(\"Enter time in years : \"))\n",
    "\n",
    "si=(p*r*t)/100\n",
    "\n",
    "print(\"Simple interest : \",si)"
   ]
  },
  {
   "cell_type": "markdown",
   "id": "d7870bcd",
   "metadata": {},
   "source": [
    "## Q5"
   ]
  },
  {
   "cell_type": "code",
   "execution_count": 9,
   "id": "0ff236ce",
   "metadata": {},
   "outputs": [
    {
     "name": "stdout",
     "output_type": "stream",
     "text": [
      "Enter first number : 19.2\n",
      "Enter second number : 46\n",
      "Before swapping :  19.2 46.0\n",
      "After swapping :  46.0 19.200000000000003\n"
     ]
    }
   ],
   "source": [
    "a=float(input(\"Enter first number : \"))\n",
    "b=float(input(\"Enter second number : \"))\n",
    "print(\"Before swapping : \",a,b)\n",
    "\n",
    "a=a+b\n",
    "b=a-b\n",
    "a=a-b\n",
    "\n",
    "print(\"After swapping : \",a,b)"
   ]
  },
  {
   "cell_type": "markdown",
   "id": "242b9d83",
   "metadata": {},
   "source": [
    "## Q6"
   ]
  },
  {
   "cell_type": "code",
   "execution_count": 11,
   "id": "ee942f4f",
   "metadata": {},
   "outputs": [
    {
     "name": "stdout",
     "output_type": "stream",
     "text": [
      "Enter temperature in C : 38\n",
      "Temperature in F :  100.4\n"
     ]
    }
   ],
   "source": [
    "c=float(input(\"Enter temperature in C : \"))\n",
    "f=9*c/5+32\n",
    "print(\"Temperature in F : \",f)"
   ]
  },
  {
   "cell_type": "markdown",
   "id": "7b20bb83",
   "metadata": {},
   "source": [
    "## Q7"
   ]
  },
  {
   "cell_type": "code",
   "execution_count": 14,
   "id": "f28e092a",
   "metadata": {},
   "outputs": [
    {
     "name": "stdout",
     "output_type": "stream",
     "text": [
      "Enter number of days : 1203\n",
      "3 years 3 months 2 weeks 4 days\n"
     ]
    }
   ],
   "source": [
    "n=int(input(\"Enter number of days : \"))\n",
    "ny=n//365\n",
    "n=n%365\n",
    "nm=n//30\n",
    "n=n%30\n",
    "nw=n//7\n",
    "n=n%7\n",
    "print(ny,\"years\",nm,\"months\",nw,\"weeks\",n,\"days\")"
   ]
  },
  {
   "cell_type": "markdown",
   "id": "f5e701f0",
   "metadata": {},
   "source": [
    "## Q8"
   ]
  },
  {
   "cell_type": "code",
   "execution_count": 15,
   "id": "e8a3a153",
   "metadata": {},
   "outputs": [
    {
     "name": "stdout",
     "output_type": "stream",
     "text": [
      "Enter mass of body 1 : 12\n",
      "Enter mass of body 2 : 14\n",
      "Enter distance between the two bodies : 32\n",
      "Gravitational force between th two bodies :  1.094296875e-11\n"
     ]
    }
   ],
   "source": [
    "m1=float(input(\"Enter mass of body 1 : \"))\n",
    "m2=float(input(\"Enter mass of body 2 : \"))\n",
    "r=float(input(\"Enter distance between the two bodies : \"))\n",
    "\n",
    "f=(6.67*10**-11)*((m1*m2)/r**2)\n",
    "\n",
    "print(\"Gravitational force between th two bodies : \",f)"
   ]
  },
  {
   "cell_type": "markdown",
   "id": "9b42b3c8",
   "metadata": {},
   "source": [
    "## Q9"
   ]
  },
  {
   "cell_type": "code",
   "execution_count": 16,
   "id": "781fd374",
   "metadata": {},
   "outputs": [
    {
     "name": "stdout",
     "output_type": "stream",
     "text": [
      "Enter a number : 37\n",
      "Entered number is odd\n"
     ]
    }
   ],
   "source": [
    "n=float(input(\"Enter a number : \"))\n",
    "if n%2==0:\n",
    "    print(\"Entered number is even\")\n",
    "else:\n",
    "    print(\"Entered number is odd\")"
   ]
  },
  {
   "cell_type": "markdown",
   "id": "e7929156",
   "metadata": {},
   "source": [
    "## Q10"
   ]
  },
  {
   "cell_type": "code",
   "execution_count": 17,
   "id": "0cb3035b",
   "metadata": {},
   "outputs": [
    {
     "name": "stdout",
     "output_type": "stream",
     "text": [
      "Enter a number : 13\n",
      "Output :  8\n"
     ]
    }
   ],
   "source": [
    "n=int(input(\"Enter a number : \"))\n",
    "\n",
    "if n>15:\n",
    "    print(\"Output : \",2*(n-15))\n",
    "elif n<15:\n",
    "    print(\"Output : \",4*(15-n))\n",
    "else:\n",
    "    print(\"Output : \",0)"
   ]
  },
  {
   "cell_type": "markdown",
   "id": "48afa214",
   "metadata": {},
   "source": [
    "## Q11"
   ]
  },
  {
   "cell_type": "code",
   "execution_count": 20,
   "id": "3026d61f",
   "metadata": {},
   "outputs": [
    {
     "name": "stdout",
     "output_type": "stream",
     "text": [
      "Enter 3 numbers : 72 14 57\n",
      "Largest :  72\n"
     ]
    }
   ],
   "source": [
    "a ,b ,c=input(\"Enter 3 numbers : \").split()\n",
    "\n",
    "if a>b and a>c:\n",
    "    l=a\n",
    "elif b>a and b>c:\n",
    "    l=b\n",
    "else:\n",
    "    l=c\n",
    "\n",
    "print(\"Largest : \",l)"
   ]
  },
  {
   "cell_type": "markdown",
   "id": "b07d1173",
   "metadata": {},
   "source": [
    "## Q12"
   ]
  },
  {
   "cell_type": "code",
   "execution_count": 22,
   "id": "ef477a56",
   "metadata": {},
   "outputs": [
    {
     "name": "stdout",
     "output_type": "stream",
     "text": [
      "Enter 3 sides of the triangle : 10 7 10\n",
      "Isosceles triangle\n"
     ]
    }
   ],
   "source": [
    "s1,s2,s3=input(\"Enter 3 sides of the triangle : \").split()\n",
    "\n",
    "if s1==s2==s3 :\n",
    "    print(\"Equilateral triangle\")\n",
    "elif s1==s2 or s2==s3 or s1==s3:\n",
    "    print(\"Isosceles triangle\")\n",
    "else:\n",
    "    print(\"Scalene triangle\")"
   ]
  },
  {
   "cell_type": "markdown",
   "id": "a09be5f1",
   "metadata": {},
   "source": [
    "## Q13"
   ]
  },
  {
   "cell_type": "code",
   "execution_count": 23,
   "id": "23b7eeae",
   "metadata": {},
   "outputs": [
    {
     "name": "stdout",
     "output_type": "stream",
     "text": [
      "Enter year : 2012\n",
      "leap year\n"
     ]
    }
   ],
   "source": [
    "y=int(input(\"Enter year : \"))\n",
    "\n",
    "if (y%4==0 and y%100!=0) or (y%400==0):\n",
    "    print(\"leap year\")\n",
    "else:\n",
    "    print(\"not a leap year\")"
   ]
  },
  {
   "cell_type": "markdown",
   "id": "c5d206fd",
   "metadata": {},
   "source": [
    "## Q14"
   ]
  },
  {
   "cell_type": "code",
   "execution_count": 28,
   "id": "d9c7e8c2",
   "metadata": {},
   "outputs": [
    {
     "name": "stdout",
     "output_type": "stream",
     "text": [
      "Enter marks of first subject : 96\n",
      "Enter marks of second subject : 84\n",
      "Enter marks of third subject : 77\n",
      "Enter marks of fourth subject : 73\n",
      "Average :  82.5\n",
      "Grade :  A\n"
     ]
    }
   ],
   "source": [
    "a=float(input(\"Enter marks of first subject : \"))\n",
    "b=float(input(\"Enter marks of second subject : \"))\n",
    "c=float(input(\"Enter marks of third subject : \"))\n",
    "d=float(input(\"Enter marks of fourth subject : \"))\n",
    "\n",
    "s=(a+b+c+d)\n",
    "avg=float(s/4)\n",
    "print(\"Average : \",avg)\n",
    "if avg>=75: \n",
    "    grd=\"A\"\n",
    "elif avg>=60:\n",
    "    grd=\"B\"\n",
    "elif avg>=40:\n",
    "    grd=\"C\"\n",
    "else:\n",
    "    grd=\"D\"\n",
    "\n",
    "print(\"Grade : \",grd)"
   ]
  },
  {
   "cell_type": "markdown",
   "id": "547697e3",
   "metadata": {},
   "source": [
    "## Q15"
   ]
  },
  {
   "cell_type": "code",
   "execution_count": 29,
   "id": "b8763f46",
   "metadata": {},
   "outputs": [
    {
     "name": "stdout",
     "output_type": "stream",
     "text": [
      "Enter first number : 12.5\n",
      "Enter second number : 13.2\n",
      "Enter operator : +\n",
      "25.7\n"
     ]
    }
   ],
   "source": [
    "a=float(input(\"Enter first number : \"))\n",
    "b=float(input(\"Enter second number : \"))\n",
    "c=input(\"Enter operator : \")\n",
    "if c=='+':\n",
    "    print(a+b)\n",
    "elif c=='-':\n",
    "    print(a-b)\n",
    "elif c=='*':\n",
    "    print(a*b)\n",
    "elif c=='/':\n",
    "    if a>b:\n",
    "        print(a/b)\n",
    "    else:\n",
    "        print(b/a)\n",
    "elif c=='%':\n",
    "    print(a%b)\n",
    "else:\n",
    "    print(\"Invalid operator\")\n"
   ]
  },
  {
   "cell_type": "markdown",
   "id": "b61c6403",
   "metadata": {},
   "source": [
    "## Q16"
   ]
  },
  {
   "cell_type": "code",
   "execution_count": 35,
   "id": "c4a9bdbc",
   "metadata": {},
   "outputs": [
    {
     "name": "stdout",
     "output_type": "stream",
     "text": [
      "Enter coefficient a: 2\n",
      "Enter coefficient b: 3\n",
      "Enter coefficient c: -2\n",
      "The roots of the quadratic equation are:  -2.0 and 0.5\n"
     ]
    }
   ],
   "source": [
    "import math\n",
    "\n",
    "a = float(input(\"Enter coefficient a: \"))\n",
    "b = float(input(\"Enter coefficient b: \"))\n",
    "c = float(input(\"Enter coefficient c: \"))\n",
    "\n",
    "if a == 0:\n",
    "    print(\"Coefficient 'a' cannot be zero in a quadratic equation.\")\n",
    "else:\n",
    "    discriminant = (b ** 2) - (4 * a * c)\n",
    "    \n",
    "    root1 = (-b - math.sqrt(discriminant)) / (2 * a)\n",
    "    root2 = (-b + math.sqrt(discriminant)) / (2 * a)\n",
    "    \n",
    "    print(\"The roots of the quadratic equation are: \",root1, \"and\",root2)\n"
   ]
  },
  {
   "cell_type": "markdown",
   "id": "f72bd9b2",
   "metadata": {},
   "source": [
    "## Q17"
   ]
  },
  {
   "cell_type": "code",
   "execution_count": 38,
   "id": "ece158ce",
   "metadata": {},
   "outputs": [
    {
     "name": "stdout",
     "output_type": "stream",
     "text": [
      "Enter a number : 10\n",
      "1\n",
      "2\n",
      "3\n",
      "4\n",
      "5\n",
      "6\n",
      "7\n",
      "8\n",
      "9\n",
      "10\n"
     ]
    }
   ],
   "source": [
    "a = int(input(\"Enter a number : \"))\n",
    "for i in range (1,a+1):\n",
    "    print(i)"
   ]
  },
  {
   "cell_type": "markdown",
   "id": "c3cc59ca",
   "metadata": {},
   "source": [
    "## Q18"
   ]
  },
  {
   "cell_type": "code",
   "execution_count": 39,
   "id": "e1c14499",
   "metadata": {},
   "outputs": [
    {
     "name": "stdout",
     "output_type": "stream",
     "text": [
      "Enter a number upto which sum should be calculated : 15\n",
      "Sum :  120\n"
     ]
    }
   ],
   "source": [
    "a = int(input(\"Enter a number upto which sum should be calculated : \"))\n",
    "s=0\n",
    "for i in range (1,a+1):\n",
    "    s=s+i\n",
    "print(\"Sum : \",s)"
   ]
  },
  {
   "cell_type": "markdown",
   "id": "4b46e78e",
   "metadata": {},
   "source": [
    "## Q19"
   ]
  },
  {
   "cell_type": "code",
   "execution_count": 46,
   "id": "d1893054",
   "metadata": {},
   "outputs": [
    {
     "name": "stdout",
     "output_type": "stream",
     "text": [
      "Enter the number whose sum of digits is to be calculated : 256\n",
      "Sum of digits of is  13\n"
     ]
    }
   ],
   "source": [
    "n=int(input(\"Enter the number whose sum of digits is to be calculated : \"))\n",
    "s=0\n",
    "while n>0:\n",
    "    r=n%10\n",
    "    s=s+r\n",
    "    n=n//10\n",
    "print(\"Sum of digits of is \",s)"
   ]
  },
  {
   "cell_type": "markdown",
   "id": "6f469e8c",
   "metadata": {},
   "source": [
    "## Q20"
   ]
  },
  {
   "cell_type": "code",
   "execution_count": 48,
   "id": "fd6775b2",
   "metadata": {},
   "outputs": [
    {
     "name": "stdout",
     "output_type": "stream",
     "text": [
      "Enter a number : 12\n",
      "Factors : \n",
      "1\n",
      "2\n",
      "3\n",
      "4\n",
      "6\n"
     ]
    }
   ],
   "source": [
    "n=int(input(\"Enter a number : \"))\n",
    "print(\"Factors : \")\n",
    "for i in range (1,n//2+1):\n",
    "    if(n%i==0):\n",
    "        print(i)"
   ]
  },
  {
   "cell_type": "markdown",
   "id": "3e33e202",
   "metadata": {},
   "source": [
    "## Q21"
   ]
  },
  {
   "cell_type": "code",
   "execution_count": 50,
   "id": "d47fd62d",
   "metadata": {},
   "outputs": [
    {
     "name": "stdout",
     "output_type": "stream",
     "text": [
      "Enter a number : 198\n",
      "Reversed number :  891\n"
     ]
    }
   ],
   "source": [
    "n=int(input(\"Enter a number : \"))\n",
    "rev=0\n",
    "while n>0:\n",
    "    rem=n%10\n",
    "    rev=rev*10+rem\n",
    "    n=n//10\n",
    "print(\"Reversed number : \",rev)"
   ]
  },
  {
   "cell_type": "markdown",
   "id": "7a4920db",
   "metadata": {},
   "source": [
    "## Q22"
   ]
  },
  {
   "cell_type": "code",
   "execution_count": 55,
   "id": "c7e7d4ee",
   "metadata": {},
   "outputs": [
    {
     "name": "stdout",
     "output_type": "stream",
     "text": [
      "Enter a number : 6\n",
      "Factorial of 6 is : 720\n"
     ]
    }
   ],
   "source": [
    "n=int(input(\"Enter a number : \"))\n",
    "f=1\n",
    "for i in range (1,n+1):\n",
    "    f=f*i\n",
    "print(\"Factorial of\",n,\"is :\",f)\n"
   ]
  },
  {
   "cell_type": "markdown",
   "id": "f5ddd65d",
   "metadata": {},
   "source": [
    "## Q23"
   ]
  },
  {
   "cell_type": "code",
   "execution_count": 60,
   "id": "39fa3362",
   "metadata": {},
   "outputs": [
    {
     "name": "stdout",
     "output_type": "stream",
     "text": [
      "Enter a number : 757\n",
      "Number is palnidrome\n"
     ]
    }
   ],
   "source": [
    "n=int(input(\"Enter a number : \"))\n",
    "rev=0\n",
    "num=n\n",
    "while n>0:\n",
    "    rem=n%10\n",
    "    rev=rev*10+rem\n",
    "    n=n//10\n",
    "if rev==num:\n",
    "    print(\"Number is palnidrome\")\n",
    "else:\n",
    "    print(\"Number is not palnidrome\")\n"
   ]
  },
  {
   "cell_type": "markdown",
   "id": "0c6c4408",
   "metadata": {},
   "source": [
    "## Q24"
   ]
  },
  {
   "cell_type": "code",
   "execution_count": 135,
   "id": "71b7012e",
   "metadata": {},
   "outputs": [
    {
     "name": "stdout",
     "output_type": "stream",
     "text": [
      "Enter a number : 47\n",
      "Number is a Prime number\n"
     ]
    }
   ],
   "source": [
    "n=int(input(\"Enter a number : \"))\n",
    "c=0\n",
    "for i in range (2,n//2+1):\n",
    "    if(n%i==0):\n",
    "        c+=1\n",
    "if n==0:\n",
    "    print(\"Zero is neither prime nor composite\")\n",
    "elif c>0 or n<2:\n",
    "    print(\"Number is not a Prime number\")\n",
    "else:\n",
    "    print(\"Number is a Prime number\")"
   ]
  },
  {
   "cell_type": "markdown",
   "id": "738f462a",
   "metadata": {},
   "source": [
    "## Q25"
   ]
  },
  {
   "cell_type": "code",
   "execution_count": 72,
   "id": "6008124c",
   "metadata": {},
   "outputs": [
    {
     "name": "stdout",
     "output_type": "stream",
     "text": [
      "Enter a number : 153\n",
      "Number is an Armstrong number \n"
     ]
    }
   ],
   "source": [
    "n=int(input(\"Enter a number : \"))\n",
    "s=0\n",
    "num=n\n",
    "while n>0:\n",
    "    r=n%10\n",
    "    s=s+r**3\n",
    "    n=n//10\n",
    "if s==num:\n",
    "    print(\"Number is an Armstrong number \")\n",
    "else:\n",
    "    print(\"Number is not an Armstrong number \")"
   ]
  },
  {
   "cell_type": "markdown",
   "id": "a257f93a",
   "metadata": {},
   "source": [
    "## Q26"
   ]
  },
  {
   "cell_type": "code",
   "execution_count": 79,
   "id": "875e9d4d",
   "metadata": {},
   "outputs": [
    {
     "name": "stdout",
     "output_type": "stream",
     "text": [
      "Enter a number : 5\n",
      "0 1 1 2 3 "
     ]
    }
   ],
   "source": [
    "n=int(input(\"Enter a number : \"))\n",
    "a=0\n",
    "b=1\n",
    "print(a,b,end=' ')\n",
    "for i in range(1,n-1):\n",
    "    c=a+b\n",
    "    a=b\n",
    "    b=c    \n",
    "    print(c,end=' ')"
   ]
  },
  {
   "cell_type": "markdown",
   "id": "68a9ee50",
   "metadata": {},
   "source": [
    "## Q27"
   ]
  },
  {
   "cell_type": "code",
   "execution_count": 80,
   "id": "9dd7ba7b",
   "metadata": {},
   "outputs": [
    {
     "name": "stdout",
     "output_type": "stream",
     "text": [
      "Enter a number : 5\n",
      "5 * 1 = 5\n",
      "5 * 2 = 10\n",
      "5 * 3 = 15\n",
      "5 * 4 = 20\n",
      "5 * 5 = 25\n",
      "5 * 6 = 30\n",
      "5 * 7 = 35\n",
      "5 * 8 = 40\n",
      "5 * 9 = 45\n",
      "5 * 10 = 50\n"
     ]
    }
   ],
   "source": [
    "n=int(input(\"Enter a number : \"))\n",
    "for i in range (1,11):\n",
    "    print(n,\"*\",i,\"=\",n*i)"
   ]
  },
  {
   "cell_type": "markdown",
   "id": "df6fd7ee",
   "metadata": {},
   "source": [
    "## Q28"
   ]
  },
  {
   "cell_type": "code",
   "execution_count": 83,
   "id": "8639300c",
   "metadata": {},
   "outputs": [
    {
     "name": "stdout",
     "output_type": "stream",
     "text": [
      "Enter the number of elements to be in the list :5\n",
      "Enter element :12\n",
      "Enter element :54\n",
      "Enter element :23\n",
      "Enter element :55\n",
      "Enter element :78\n",
      "Elements in the list :  [12, 54, 23, 55, 78]\n"
     ]
    }
   ],
   "source": [
    "l=[]\n",
    "n=int(input(\"Enter the number of elements to be in the list :\"))\n",
    "for i in range (0,n):\n",
    "    e=int(input(\"Enter element :\"))\n",
    "    l.append(e)\n",
    "print(\"Elements in the list : \",l)"
   ]
  },
  {
   "cell_type": "markdown",
   "id": "edfbf4d9",
   "metadata": {},
   "source": [
    "## Q29"
   ]
  },
  {
   "cell_type": "code",
   "execution_count": 91,
   "id": "f108bcb0",
   "metadata": {},
   "outputs": [
    {
     "name": "stdout",
     "output_type": "stream",
     "text": [
      "Enter the number of elements to be in the list :4\n",
      "Enter element :12\n",
      "Enter element :13\n",
      "Enter element :9\n",
      "Enter element :26\n",
      "Average :  15.0\n"
     ]
    }
   ],
   "source": [
    "l=[]\n",
    "n=int(input(\"Enter the number of elements to be in the list :\"))\n",
    "for i in range (0,n):\n",
    "    e=int(input(\"Enter element :\"))\n",
    "    l.append(e)\n",
    "print(\"Average : \",sum(l)/len(l))"
   ]
  },
  {
   "cell_type": "markdown",
   "id": "f532a3d3",
   "metadata": {},
   "source": [
    "## Q30"
   ]
  },
  {
   "cell_type": "code",
   "execution_count": 92,
   "id": "47b49fdc",
   "metadata": {},
   "outputs": [
    {
     "name": "stdout",
     "output_type": "stream",
     "text": [
      "Enter the number of elements to be in the list :5\n",
      "Enter element :32\n",
      "Enter element :19\n",
      "Enter element :24\n",
      "Enter element :56\n",
      "Enter element :12\n",
      "Largest element :  56\n"
     ]
    }
   ],
   "source": [
    "l=[]\n",
    "n=int(input(\"Enter the number of elements to be in the list :\"))\n",
    "for i in range (0,n):\n",
    "    e=int(input(\"Enter element :\"))\n",
    "    l.append(e)\n",
    "print(\"Largest element : \",max(l))"
   ]
  },
  {
   "cell_type": "markdown",
   "id": "5bc67b74",
   "metadata": {},
   "source": [
    "## Q31"
   ]
  },
  {
   "cell_type": "code",
   "execution_count": 103,
   "id": "7cec9c68",
   "metadata": {},
   "outputs": [
    {
     "name": "stdout",
     "output_type": "stream",
     "text": [
      "Enter the number of elements to be in the list :3\n",
      "Enter element :1\n",
      "Enter element :5\n",
      "Enter element :9\n",
      "Enter search element :9\n",
      "Element found\n"
     ]
    }
   ],
   "source": [
    "l=[]\n",
    "n=int(input(\"Enter the number of elements to be in the list :\"))\n",
    "for i in range (0,n):\n",
    "    e=int(input(\"Enter element :\"))\n",
    "    l.append(e)\n",
    "sr=int(input(\"Enter search element :\"))\n",
    "for i in range (0,len(l)):\n",
    "    if sr==l[i]:\n",
    "        f=0\n",
    "if f==0:\n",
    "    print(\"Element found\")\n",
    "else:\n",
    "    print(\"Element not found\")  "
   ]
  },
  {
   "cell_type": "markdown",
   "id": "20f10e30",
   "metadata": {},
   "source": [
    "## Q32"
   ]
  },
  {
   "cell_type": "code",
   "execution_count": 112,
   "id": "fe419442",
   "metadata": {},
   "outputs": [
    {
     "name": "stdout",
     "output_type": "stream",
     "text": [
      "Enter the number of sentences you want to enter :2\n",
      "hello world\n",
      "practice makes perfect\n",
      "HELLO WORLD\n",
      "PRACTICE MAKES PERFECT\n"
     ]
    }
   ],
   "source": [
    "l=[]\n",
    "n=int(input(\"Enter the number of sentences you want to enter :\"))\n",
    "for i in range (0,n):\n",
    "    e=input()\n",
    "    e=e.upper()\n",
    "    l.append(e)\n",
    "for i in range(0,len(l)):\n",
    "    print(l[i])\n"
   ]
  },
  {
   "cell_type": "markdown",
   "id": "54f0e6a7",
   "metadata": {},
   "source": [
    "## Q33"
   ]
  },
  {
   "cell_type": "code",
   "execution_count": 145,
   "id": "f6f31fcc",
   "metadata": {},
   "outputs": [
    {
     "name": "stdout",
     "output_type": "stream",
     "text": [
      "Enter the comma separated numbers : 34,67,55,33,12,98\n",
      "['34', '67', '55', '33', '12', '98']\n",
      "('34', '67', '55', '33', '12', '98')\n"
     ]
    }
   ],
   "source": [
    "n=input(\"Enter the comma separated numbers : \").split(',')\n",
    "l=list(n)\n",
    "t=tuple(n)\n",
    "print(l)\n",
    "print(t)"
   ]
  },
  {
   "cell_type": "markdown",
   "id": "6a2db449",
   "metadata": {},
   "source": [
    "## Q34"
   ]
  },
  {
   "cell_type": "code",
   "execution_count": 164,
   "id": "90162461",
   "metadata": {},
   "outputs": [
    {
     "name": "stdout",
     "output_type": "stream",
     "text": [
      "Enter the number of transactions you want to enter :4\n",
      "D 300\n",
      "D 300\n",
      "W 200\n",
      "D 100\n",
      "Amount : 500\n"
     ]
    }
   ],
   "source": [
    "amt=0\n",
    "l=[]\n",
    "n=int(input(\"Enter the number of transactions you want to enter :\"))\n",
    "for i in range (0,n):\n",
    "    e=input().split(' ')\n",
    "    l.append(e)\n",
    "    if l[i][0]==\"D\":\n",
    "        amt=amt+int(l[i][1])\n",
    "    elif l[i][0]=='W':\n",
    "        amt=amt-int(l[i][1])\n",
    "print(\"Amount :\",amt)"
   ]
  },
  {
   "cell_type": "code",
   "execution_count": null,
   "id": "f088847b",
   "metadata": {},
   "outputs": [],
   "source": []
  }
 ],
 "metadata": {
  "kernelspec": {
   "display_name": "Python 3 (ipykernel)",
   "language": "python",
   "name": "python3"
  },
  "language_info": {
   "codemirror_mode": {
    "name": "ipython",
    "version": 3
   },
   "file_extension": ".py",
   "mimetype": "text/x-python",
   "name": "python",
   "nbconvert_exporter": "python",
   "pygments_lexer": "ipython3",
   "version": "3.11.5"
  }
 },
 "nbformat": 4,
 "nbformat_minor": 5
}
